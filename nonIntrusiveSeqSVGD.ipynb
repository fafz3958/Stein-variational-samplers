{
 "cells": [
  {
   "cell_type": "code",
   "execution_count": 205,
   "metadata": {
    "collapsed": true
   },
   "outputs": [],
   "source": [
    "import numpy as np\n",
    "import matplotlib.pyplot as plt\n",
    "from scipy import stats, optimize\n",
    "from scipy.spatial.distance import cdist\n",
    "import statistics\n",
    "from IPython.display import display, Math, Latex\n",
    "%matplotlib inline\n"
   ]
  },
  {
   "cell_type": "markdown",
   "metadata": {},
   "source": [
    "\n",
    "# Non-intrusive sequential SVGD\n",
    "\n",
    "Algorithm: Given particles $(x_j)_{j=1}^{N-1}$, find the new particle $z$ by optimizing the particle position recurrently applying the SVGD formula $x \\gets x + \\varepsilon f(z)$, where\n",
    "$f(z) = \\nabla\\log\\pi(z) + \\sum_{j=1}^{N-1} \\left[ \\nabla \\log\\pi(x_j)k(z, x_j) + \\nabla_{x_j}k(z,x_j) \\right]$ .\n",
    "If we assume convergence of the method, the particle $z$ will reach a converging value $z^*$, which is equivalent to\n",
    "$$z^* = \\text{argmax}_z F(z) ,$$\n",
    "where $F(z) := \\int_\\alpha f(z')\\cdot dz'$, where $\\alpha$ is some path with $z$ as endpoint (Gradient theorem). Note that the result is independent on the choice of the path $\\alpha$, but a nice choice of $\\alpha$ will facilitate the explicit calculation of $F(z)$. I choose $\\alpha:(-\\infty,1)\\to \\mathbb{R}^d: t\\mapsto t z$. I use kernel\n",
    "$k(x,z) = e^{-\\gamma (x-z)^\\top (x-z)}$. Hence, we can calculate $F(z)$ explicitely, which results into\n",
    "\n",
    "$$ F(z) = \\log\\pi(z) + \\sum_{j=1}^{N-1} \\left[ \\nabla \\log\\pi(x_j)\\int_{-\\infty}^1 k(tz, x_j)\\,dt + \\int_{-\\infty}^1\\nabla_{x_j}k(tz,x_j)\\,dt \\right]^\\top z $$\n",
    "$$~\\quad = \\log\\pi(z) + \\sum_{j=1}^{N-1} \\left[ \\nabla \\log\\pi(x_j)^\\top z \\sqrt{\\frac{\\pi}{\\gamma z^\\top z}}\\,\\Phi\\left(1, \\mu = \\frac{x_j^\\top z}{z^\\top z}, \\sigma = \\frac{1}{\\sqrt{2\\gamma z^\\top z}}\\right)\\, e^{-\\gamma \\left(x_j^\\top x_j - \\frac{(x_j^\\top z)^2}{z^\\top z}\\right)} - k(z,x_j)\\right], $$\n",
    "where $\\Phi$ is the normal CDF.\n",
    "To optimize the particle, the function $F$ can then be given to an off-the-shelf optimizer (optionally together with its gradient $f$), with obvious advantages.\n",
    "With the function $F$, we can now also perform proper line-search methods for faster optimizations."
   ]
  },
  {
   "cell_type": "markdown",
   "metadata": {},
   "source": [
    "# Questions:\n",
    "- What is the relation between a sequential SVN and a second-order optimization on $F(z)$?\n",
    "- Can we prove that the sequential method converges properly (which I observe numerically for both SVN and SVGD)? Check on \"Stein Points\" from C. Oates."
   ]
  },
  {
   "cell_type": "code",
   "execution_count": 346,
   "metadata": {
    "collapsed": true
   },
   "outputs": [],
   "source": [
    "class SeqSVGD:\n",
    "    def __init__(self, model):\n",
    "        self.model = model\n",
    "        self.DoF   = self.model.DoF\n",
    "        self.MAP   = self.model.getMAP().reshape(self.DoF, 1)\n",
    "        \n",
    "        self.particles  = self.MAP\n",
    "        self.gmlpts = self.model.getGradientMinusLogPosterior(self.particles).reshape(self.DoF, 1)        \n",
    "        self.mlpts  = self.model.getMinusLogPosterior(self.particles)\n",
    "        self.nParticles = 1\n",
    "        \n",
    "    def apply(self):\n",
    "        if self.nParticles > 1:\n",
    "            dist2 = cdist(self.particles.T, self.particles.T, 'sqeuclidean')\n",
    "            med2  = statistics.median( dist2[dist2 != 0] )\n",
    "            self.gamma = np.log( self.nParticles ) / med2\n",
    "        else:\n",
    "            self.gamma = 1\n",
    "            \n",
    "        particle = self.generateParticle()\n",
    "        res = optimize.minimize(self.func2minimize, particle, method='L-BFGS-B')\n",
    "\n",
    "        self.particles = np.hstack( (self.particles, res.x[:,np.newaxis]) )\n",
    "        self.gmlpts    = np.hstack( (self.gmlpts, self.model.getGradientMinusLogPosterior(res.x).reshape(self.DoF, 1)) )\n",
    "        self.mlpts     = np.hstack( (self.mlpts, self.mlpt) )\n",
    "        \n",
    "        self.nParticles += 1\n",
    "            \n",
    "    def generateParticle(self):\n",
    "        return self.MAP + np.random.normal( scale = 0.1, size = (self.DoF, 1) )\n",
    "    \n",
    "    def func2minimize(self, z):\n",
    "        self.mlpt = self.model.getMinusLogPosterior(z)\n",
    "\n",
    "        ztz = np.dot(z, z)\n",
    "        xtz = np.sum( self.particles * z[:,np.newaxis], 0 )\n",
    "        xtx = np.sum( self.particles * self.particles, 0 )\n",
    "        xzdiff = self.particles - z[:,np.newaxis]\n",
    "        mus = xtz / ztz\n",
    "        gamztz = self.gamma * ztz\n",
    "        std = 1 / np.sqrt( 2 * gamztz )\n",
    "        cdfnorm = stats.norm.cdf(1, mus, std)\n",
    "        normconst = np.sqrt( np.pi / gamztz )\n",
    "        extraexp = np.exp( - self.gamma * ( xtx - xtz * mus ) )\n",
    "        kern = np.exp( - self.gamma * np.sum(xzdiff ** 2, 0) )\n",
    "        \n",
    "        return self.mlpt + np.sum( np.sum(self.gmlpts * z[:,np.newaxis], 0) * normconst * cdfnorm * extraexp + kern )\n",
    "        "
   ]
  },
  {
   "cell_type": "code",
   "execution_count": 337,
   "metadata": {
    "collapsed": true
   },
   "outputs": [],
   "source": [
    "class GAUSSIAN():\n",
    "    def __init__(self):\n",
    "        self.DoF = 2\n",
    "        self.nData = 1\n",
    "        self.mu0 = np.zeros((self.DoF, 1))\n",
    "        self.std0 = np.ones((self.DoF,1))\n",
    "        self.var0 = self.std0 ** 2\n",
    "        self.stdn = 0.3\n",
    "        self.varn = self.stdn ** 2\n",
    "        \n",
    "        np.random.seed(40)\n",
    "        self.A    = np.random.normal( size = (self.DoF, 1) )\n",
    "        self.thetaTrue = np.random.normal(size = self.DoF)\n",
    "        self.data = self.simulateData()\n",
    "        \n",
    "    def getForwardModel(self, thetas):\n",
    "        nSamples = thetas.size // self.DoF\n",
    "        thetas = thetas.reshape(self.DoF, nSamples)\n",
    "        tmp = np.sum(self.A * thetas, 0)\n",
    "        return tmp if nSamples > 1 else tmp.squeeze()\n",
    "    \n",
    "    def getJacobianForwardModel(self, thetas):\n",
    "        nSamples = thetas.size // self.DoF\n",
    "        thetas = thetas.reshape(self.DoF, nSamples)\n",
    "        tmp = np.matlib.repmat(self.A, 1, nSamples)\n",
    "        return tmp if nSamples > 1 else tmp.squeeze()\n",
    "        \n",
    "    def simulateData(self):\n",
    "        noise = np.random.normal( scale = self.stdn, size = (1, self.nData) )\n",
    "        return self.getForwardModel(self.thetaTrue) + np.random.normal( scale = self.stdn, size = (1, self.nData) )\n",
    "        \n",
    "    def getMinusLogPrior(self, thetas):\n",
    "        nSamples = thetas.size // self.DoF\n",
    "        thetas = thetas.reshape(self.DoF, nSamples)\n",
    "        shift = thetas - self.mu0\n",
    "        tmp = 0.5 * np.sum( shift ** 2 / self.var0, 0 )\n",
    "        return tmp if nSamples > 1 else tmp.squeeze()\n",
    "    \n",
    "    def getMinusLogLikelihood(self, thetas, *arg):\n",
    "        nSamples = thetas.size // self.DoF\n",
    "        thetas = thetas.reshape(self.DoF, nSamples)\n",
    "        F = arg[0] if len(arg) > 0 else self.getForwardModel(thetas)\n",
    "        shift = F - self.data\n",
    "        tmp = 0.5 * np.sum( shift ** 2, 0 ) / self.varn\n",
    "        return tmp if nSamples > 1 else tmp.squeeze()\n",
    "    \n",
    "    def getMinusLogPosterior(self, thetas, *arg):\n",
    "        return self.getMinusLogPrior(thetas) + self.getMinusLogLikelihood(thetas, *arg)\n",
    "    \n",
    "    def getGradientMinusLogPrior(self, thetas):\n",
    "        nSamples = thetas.size // self.DoF\n",
    "        thetas = thetas.reshape(self.DoF, nSamples)\n",
    "        tmp = (thetas - self.mu0) / self.var0\n",
    "        return tmp if nSamples > 1 else tmp.squeeze()\n",
    "    \n",
    "    def getGradientMinusLogLikelihood(self, thetas, *arg):\n",
    "        nSamples = thetas.size // self.DoF\n",
    "        thetas = thetas.reshape(self.DoF, nSamples)\n",
    "        F = arg[0] if len(arg) > 0 else self.getForwardModel(thetas)   \n",
    "        J = arg[1] if len(arg) > 1 else self.getJacobianForwardModel(thetas)\n",
    "        tmp = J * np.sum(F - self.data, 0) / self.varn\n",
    "        return tmp if nSamples > 1 else tmp.squeeze()\n",
    "    \n",
    "    def getGradientMinusLogPosterior(self, thetas, *arg):\n",
    "        return self.getGradientMinusLogPrior(thetas) + self.getGradientMinusLogLikelihood(thetas, *arg)\n",
    "    \n",
    "    def getGNHessianMinusLogPosterior(self, thetas, *arg):        \n",
    "        nSamples = thetas.size // self.DoF\n",
    "        thetas = thetas.reshape(self.DoF, nSamples)\n",
    "        J = arg[0] if len(arg) > 1 else self.getJacobianForwardModel(thetas)\n",
    "        tmp = J.reshape(self.DoF, 1, nSamples) * J.reshape(1, self.DoF, nSamples) / self.varn \\\n",
    "              + (np.eye(self.DoF) / self.var0)[:,:,np.newaxis]\n",
    "        return tmp if nSamples > 1 else tmp.squeeze()\n",
    "    \n",
    "    def getMAP(self, *arg):\n",
    "        x0 = arg[0] if len(arg) > 0 else np.random.normal(size = self.DoF)\n",
    "        res = optimize.minimize(self.getMinusLogPosterior, x0, method='L-BFGS-B')\n",
    "        return res.x"
   ]
  },
  {
   "cell_type": "code",
   "execution_count": 338,
   "metadata": {
    "collapsed": true
   },
   "outputs": [],
   "source": [
    "model = GAUSSIAN()"
   ]
  },
  {
   "cell_type": "code",
   "execution_count": 339,
   "metadata": {},
   "outputs": [],
   "source": [
    "ssvgd = SeqSVGD(model)"
   ]
  },
  {
   "cell_type": "code",
   "execution_count": 344,
   "metadata": {},
   "outputs": [],
   "source": [
    "for i in range(100):\n",
    "    ssvgd.apply()"
   ]
  },
  {
   "cell_type": "code",
   "execution_count": 345,
   "metadata": {},
   "outputs": [
    {
     "data": {
      "text/plain": [
       "<matplotlib.collections.PathCollection at 0x19bfee5e1d0>"
      ]
     },
     "execution_count": 345,
     "metadata": {},
     "output_type": "execute_result"
    },
    {
     "data": {
      "image/png": "[encoded data removed]",
      "text/plain": [
       "<matplotlib.figure.Figure at 0x19bfc90e630>"
      ]
     },
     "metadata": {},
     "output_type": "display_data"
    }
   ],
   "source": [
    "ngrid = 100\n",
    "x = np.linspace(-5, 5, ngrid)\n",
    "y = np.linspace(-5, 5, ngrid)\n",
    "X, Y = np.meshgrid(x,y)\n",
    "Z = np.exp( - model.getMinusLogPosterior( np.vstack( (np.ndarray.flatten(X), np.ndarray.flatten(Y)) ) ) ) \\\n",
    "                .reshape(ngrid, ngrid)\n",
    "plt.figure(figsize = (10,10))\n",
    "plt.contourf(X, Y, Z, 10)\n",
    "plt.scatter(ssvgd.particles[0], ssvgd.particles[1], s = 10)"
   ]
  },
  {
   "cell_type": "code",
   "execution_count": 257,
   "metadata": {
    "collapsed": true
   },
   "outputs": [],
   "source": [
    "class DOUBLEBANANA():\n",
    "    def __init__(self):\n",
    "        self.DoF = 2\n",
    "        self.nData = 1\n",
    "        self.mu0 = np.zeros((self.DoF, 1))\n",
    "        self.std0 = np.ones((self.DoF,1))\n",
    "        self.var0 = self.std0 ** 2\n",
    "        self.stdn = 0.3\n",
    "        self.varn = self.stdn ** 2\n",
    "        \n",
    "        np.random.seed(40)\n",
    "        self.thetaTrue = np.random.normal(size = self.DoF)\n",
    "        self.data = self.simulateData()\n",
    "        \n",
    "    def getForwardModel(self, thetas):\n",
    "        nSamples = thetas.size // self.DoF\n",
    "        thetas = thetas.reshape(self.DoF, nSamples)\n",
    "        tmp = np.log( ( 1 - thetas[0] ) ** 2 + 100 * ( thetas[1] - thetas[0] ** 2 ) ** 2 )\n",
    "        return tmp if nSamples > 1 else tmp.squeeze()\n",
    "    \n",
    "    def getJacobianForwardModel(self, thetas):\n",
    "        nSamples = thetas.size // self.DoF\n",
    "        thetas = thetas.reshape(self.DoF, nSamples)\n",
    "        tmp = np.vstack( ( \\\n",
    "          ( 2 * ( thetas[0,:] - 1 - 200 * thetas[0,:] * (thetas[1,:] - thetas[0,:] ** 2) ) ) \\\n",
    "           / ( 1 + thetas[0,:] ** 2 - 2 * thetas[0,:] + 100 * (thetas[1,:] - thetas[0,:] ** 2) ** 2 ), \\\n",
    "          ( 200 * (thetas[1,:] - thetas[0,:] ** 2) ) \\\n",
    "           / ( 1 + thetas[0,:] ** 2 - 2 * thetas[0,:] + 100 * (thetas[1,:] - thetas[0,:] ** 2) ** 2 ) \\\n",
    "                         ) )\n",
    "        return tmp if nSamples > 1 else tmp.squeeze()\n",
    "        \n",
    "    def simulateData(self):\n",
    "        noise = np.random.normal( scale = self.stdn, size = (1, self.nData) )\n",
    "        return self.getForwardModel(self.thetaTrue) + np.random.normal( scale = self.stdn, size = (1, self.nData) )\n",
    "        \n",
    "    def getMinusLogPrior(self, thetas):\n",
    "        nSamples = thetas.size // self.DoF\n",
    "        thetas = thetas.reshape(self.DoF, nSamples)\n",
    "        shift = thetas - self.mu0\n",
    "        tmp = 0.5 * np.sum( shift ** 2 / self.var0, 0 )\n",
    "        return tmp if nSamples > 1 else tmp.squeeze()\n",
    "    \n",
    "    def getMinusLogLikelihood(self, thetas, *arg):\n",
    "        nSamples = thetas.size // self.DoF\n",
    "        thetas = thetas.reshape(self.DoF, nSamples)\n",
    "        F = arg[0] if len(arg) > 0 else self.getForwardModel(thetas)\n",
    "        shift = F - self.data\n",
    "        tmp = 0.5 * np.sum( shift ** 2, 0 ) / self.varn\n",
    "        return tmp if nSamples > 1 else tmp.squeeze()\n",
    "    \n",
    "    def getMinusLogPosterior(self, thetas, *arg):\n",
    "        return self.getMinusLogPrior(thetas) + self.getMinusLogLikelihood(thetas, *arg)\n",
    "    \n",
    "    def getGradientMinusLogPrior(self, thetas):\n",
    "        nSamples = thetas.size // self.DoF\n",
    "        thetas = thetas.reshape(self.DoF, nSamples)\n",
    "        tmp = (thetas - self.mu0) / self.var0\n",
    "        return tmp if nSamples > 1 else tmp.squeeze()\n",
    "    \n",
    "    def getGradientMinusLogLikelihood(self, thetas, *arg):\n",
    "        nSamples = thetas.size // self.DoF\n",
    "        thetas = thetas.reshape(self.DoF, nSamples)\n",
    "        F = arg[0] if len(arg) > 0 else self.getForwardModel(thetas)   \n",
    "        J = arg[1] if len(arg) > 1 else self.getJacobianForwardModel(thetas)\n",
    "        tmp = J * np.sum(F - self.data, 0) / self.varn\n",
    "        return tmp if nSamples > 1 else tmp.squeeze()\n",
    "    \n",
    "    def getGradientMinusLogPosterior(self, thetas, *arg):\n",
    "        return self.getGradientMinusLogPrior(thetas) + self.getGradientMinusLogLikelihood(thetas, *arg)\n",
    "    \n",
    "    def getGNHessianMinusLogPosterior(self, thetas, *arg):        \n",
    "        nSamples = thetas.size // self.DoF\n",
    "        thetas = thetas.reshape(self.DoF, nSamples)\n",
    "        J = arg[0] if len(arg) > 1 else self.getJacobianForwardModel(thetas)\n",
    "        tmp = J.reshape(self.DoF, 1, nSamples) * J.reshape(1, self.DoF, nSamples) / self.varn \\\n",
    "              + (np.eye(self.DoF) / self.var0)[:,:,np.newaxis]\n",
    "        return tmp if nSamples > 1 else tmp.squeeze()\n",
    "    \n",
    "    def getMAP(self, *arg):\n",
    "        x0 = arg[0] if len(arg) > 0 else np.random.normal(size = self.DoF)\n",
    "        res = optimize.minimize(self.getMinusLogPosterior, x0, method='L-BFGS-B')\n",
    "        return res.x"
   ]
  },
  {
   "cell_type": "code",
   "execution_count": 295,
   "metadata": {
    "collapsed": true
   },
   "outputs": [],
   "source": [
    "model = DOUBLEBANANA()"
   ]
  },
  {
   "cell_type": "code",
   "execution_count": 296,
   "metadata": {
    "collapsed": true
   },
   "outputs": [],
   "source": [
    "ssvgd = SeqSVGD(model)"
   ]
  },
  {
   "cell_type": "code",
   "execution_count": 297,
   "metadata": {},
   "outputs": [],
   "source": [
    "for i in range(100):\n",
    "    ssvgd.apply()"
   ]
  },
  {
   "cell_type": "code",
   "execution_count": 298,
   "metadata": {},
   "outputs": [
    {
     "data": {
      "text/plain": [
       "<matplotlib.collections.PathCollection at 0x19bfc61fcf8>"
      ]
     },
     "execution_count": 298,
     "metadata": {},
     "output_type": "execute_result"
    },
    {
     "data": {
      "image/png": "[encoded data removed]",
      "text/plain": [
       "<matplotlib.figure.Figure at 0x19bf9df70b8>"
      ]
     },
     "metadata": {},
     "output_type": "display_data"
    }
   ],
   "source": [
    "ngrid = 100\n",
    "x = np.linspace(-2, 2, ngrid)\n",
    "y = np.linspace(-2, 2, ngrid)\n",
    "X, Y = np.meshgrid(x,y)\n",
    "Z = np.exp( - model.getMinusLogPosterior( np.vstack( (np.ndarray.flatten(X), np.ndarray.flatten(Y)) ) ) ) \\\n",
    "                .reshape(ngrid, ngrid)\n",
    "plt.figure(figsize = (10,10))\n",
    "plt.contourf(X, Y, Z, 10)\n",
    "plt.scatter(ssvgd.particles[0], ssvgd.particles[1], s = 20)"
   ]
  },
  {
   "cell_type": "markdown",
   "metadata": {},
   "source": [
    "# Intrusive Sequential SVN"
   ]
  },
  {
   "cell_type": "code",
   "execution_count": 431,
   "metadata": {
    "collapsed": true
   },
   "outputs": [],
   "source": [
    "class SeqSVN:\n",
    "    def __init__(self, model, *arg):\n",
    "        self.model = model\n",
    "        self.DoF = model.DoF\n",
    "        self.nParticles = 1\n",
    "        self.nIterations = 100\n",
    "        self.stepsize = 1\n",
    "        self.MAP = self.model.getMAP( np.random.normal( size = self.DoF ) )[:,np.newaxis]\n",
    "        self.particles = self.MAP\n",
    "        self.gmlpts = self.model.getGradientMinusLogPosterior(self.MAP).reshape(self.DoF, 1)\n",
    "        self.Hmlpts = self.model.getGNHessianMinusLogPosterior(self.MAP).reshape(self.DoF,self.DoF,1)\n",
    "        self.M      = self.Hmlpts.squeeze()\n",
    "        \n",
    "    def apply(self):\n",
    "        maxshiftold = np.inf\n",
    "        particle = self.generateParticle()\n",
    "        \n",
    "        for iter_ in range(self.nIterations):\n",
    "            F = self.model.getForwardModel(particle)\n",
    "            J = self.model.getJacobianForwardModel(particle)\n",
    "            gmlpt  = self.model.getGradientMinusLogPosterior(particle, F, J).reshape(self.DoF, 1)\n",
    "            Hmlpt  = self.model.getGNHessianMinusLogPosterior(particle, J).reshape(self.DoF, self.DoF, 1)\n",
    "            \n",
    "            gmlpts = np.append( self.gmlpts, gmlpt, 1 )\n",
    "            Hmlpts = np.append( self.Hmlpts, Hmlpt, 2 )\n",
    "            M = (self.nParticles * self.M + Hmlpt.squeeze()) / (self.nParticles + 1)\n",
    "            particles = np.append( self.particles, particle, 1) \n",
    "            \n",
    "            sign_diff = particle - particles\n",
    "            Msd   = np.matmul(M, sign_diff)\n",
    "            kern  = np.exp( - 0.5 * np.sum( sign_diff * Msd, 0 ) )\n",
    "            gkern = Msd * kern\n",
    "\n",
    "            mgJ = np.mean(- gmlpts * kern + gkern , 1)\n",
    "            HJ  = np.mean(Hmlpts * kern ** 2, 2) + np.matmul(gkern, gkern.T) / (self.nParticles + 1)\n",
    "            Q = np.linalg.solve(HJ, mgJ)\n",
    "            particle += self.stepsize * Q[:,np.newaxis]\n",
    "\n",
    "            maxshift = np.linalg.norm(Q, np.inf)\n",
    "            if maxshift < maxshiftold:\n",
    "                self.stepsize *= 1.01\n",
    "            else:\n",
    "                self.stepsize *= 0.9\n",
    "            maxshiftold = maxshift\n",
    "            \n",
    "        self.gmlpts = np.append( self.gmlpts, gmlpt, 1 )\n",
    "        self.Hmlpts = np.append( self.Hmlpts, Hmlpt, 2 )\n",
    "        self.M = (self.nParticles * self.M + Hmlpt) / (self.nParticles + 1)\n",
    "        self.particles = np.append( self.particles, particle, 1) \n",
    "        self.nParticles += 1\n",
    "            \n",
    "    def generateParticle(self):\n",
    "        return np.random.normal( scale = 1, size = (self.DoF, 1) )\n"
   ]
  },
  {
   "cell_type": "code",
   "execution_count": 432,
   "metadata": {
    "collapsed": true
   },
   "outputs": [],
   "source": [
    "model = GAUSSIAN()"
   ]
  },
  {
   "cell_type": "code",
   "execution_count": 433,
   "metadata": {
    "collapsed": true
   },
   "outputs": [],
   "source": [
    "ssvn = SeqSVN(model)"
   ]
  },
  {
   "cell_type": "code",
   "execution_count": 434,
   "metadata": {},
   "outputs": [
    {
     "ename": "ValueError",
     "evalue": "shapes (2,2,3) and (3,2,2) not aligned: 3 (dim 2) != 2 (dim 1)",
     "output_type": "error",
     "traceback": [
      "\u001b[1;31m---------------------------------------------------------------------------\u001b[0m",
      "\u001b[1;31mValueError\u001b[0m                                Traceback (most recent call last)",
      "\u001b[1;32m<ipython-input-434-5875c79e02c8>\u001b[0m in \u001b[0;36m<module>\u001b[1;34m()\u001b[0m\n\u001b[0;32m      1\u001b[0m \u001b[1;32mfor\u001b[0m \u001b[0mi\u001b[0m \u001b[1;32min\u001b[0m \u001b[0mrange\u001b[0m\u001b[1;33m(\u001b[0m\u001b[1;36m100\u001b[0m\u001b[1;33m)\u001b[0m\u001b[1;33m:\u001b[0m\u001b[1;33m\u001b[0m\u001b[0m\n\u001b[1;32m----> 2\u001b[1;33m     \u001b[0mssvn\u001b[0m\u001b[1;33m.\u001b[0m\u001b[0mapply\u001b[0m\u001b[1;33m(\u001b[0m\u001b[1;33m)\u001b[0m\u001b[1;33m\u001b[0m\u001b[0m\n\u001b[0m",
      "\u001b[1;32m<ipython-input-431-4f903884d102>\u001b[0m in \u001b[0;36mapply\u001b[1;34m(self)\u001b[0m\n\u001b[0;32m     33\u001b[0m \u001b[1;33m\u001b[0m\u001b[0m\n\u001b[0;32m     34\u001b[0m             \u001b[0mmgJ\u001b[0m \u001b[1;33m=\u001b[0m \u001b[0mnp\u001b[0m\u001b[1;33m.\u001b[0m\u001b[0mmean\u001b[0m\u001b[1;33m(\u001b[0m\u001b[1;33m-\u001b[0m \u001b[0mgmlpts\u001b[0m \u001b[1;33m*\u001b[0m \u001b[0mkern\u001b[0m \u001b[1;33m+\u001b[0m \u001b[0mgkern\u001b[0m \u001b[1;33m,\u001b[0m \u001b[1;36m1\u001b[0m\u001b[1;33m)\u001b[0m\u001b[1;33m\u001b[0m\u001b[0m\n\u001b[1;32m---> 35\u001b[1;33m             \u001b[0mHJ\u001b[0m  \u001b[1;33m=\u001b[0m \u001b[0mnp\u001b[0m\u001b[1;33m.\u001b[0m\u001b[0mmean\u001b[0m\u001b[1;33m(\u001b[0m\u001b[0mHmlpts\u001b[0m \u001b[1;33m*\u001b[0m \u001b[0mkern\u001b[0m \u001b[1;33m**\u001b[0m \u001b[1;36m2\u001b[0m\u001b[1;33m,\u001b[0m \u001b[1;36m2\u001b[0m\u001b[1;33m)\u001b[0m \u001b[1;33m+\u001b[0m \u001b[0mnp\u001b[0m\u001b[1;33m.\u001b[0m\u001b[0mmatmul\u001b[0m\u001b[1;33m(\u001b[0m\u001b[0mgkern\u001b[0m\u001b[1;33m,\u001b[0m \u001b[0mgkern\u001b[0m\u001b[1;33m.\u001b[0m\u001b[0mT\u001b[0m\u001b[1;33m)\u001b[0m \u001b[1;33m/\u001b[0m \u001b[1;33m(\u001b[0m\u001b[0mself\u001b[0m\u001b[1;33m.\u001b[0m\u001b[0mnParticles\u001b[0m \u001b[1;33m+\u001b[0m \u001b[1;36m1\u001b[0m\u001b[1;33m)\u001b[0m\u001b[1;33m\u001b[0m\u001b[0m\n\u001b[0m\u001b[0;32m     36\u001b[0m             \u001b[0mQ\u001b[0m \u001b[1;33m=\u001b[0m \u001b[0mnp\u001b[0m\u001b[1;33m.\u001b[0m\u001b[0mlinalg\u001b[0m\u001b[1;33m.\u001b[0m\u001b[0msolve\u001b[0m\u001b[1;33m(\u001b[0m\u001b[0mHJ\u001b[0m\u001b[1;33m,\u001b[0m \u001b[0mmgJ\u001b[0m\u001b[1;33m)\u001b[0m\u001b[1;33m\u001b[0m\u001b[0m\n\u001b[0;32m     37\u001b[0m             \u001b[0mparticle\u001b[0m \u001b[1;33m+=\u001b[0m \u001b[0mself\u001b[0m\u001b[1;33m.\u001b[0m\u001b[0mstepsize\u001b[0m \u001b[1;33m*\u001b[0m \u001b[0mQ\u001b[0m\u001b[1;33m[\u001b[0m\u001b[1;33m:\u001b[0m\u001b[1;33m,\u001b[0m\u001b[0mnp\u001b[0m\u001b[1;33m.\u001b[0m\u001b[0mnewaxis\u001b[0m\u001b[1;33m]\u001b[0m\u001b[1;33m\u001b[0m\u001b[0m\n",
      "\u001b[1;31mValueError\u001b[0m: shapes (2,2,3) and (3,2,2) not aligned: 3 (dim 2) != 2 (dim 1)"
     ]
    }
   ],
   "source": [
    "for i in range(100):\n",
    "    ssvn.apply()"
   ]
  },
  {
   "cell_type": "code",
   "execution_count": 430,
   "metadata": {},
   "outputs": [
    {
     "data": {
      "text/plain": [
       "<matplotlib.collections.PathCollection at 0x19bfe4a66d8>"
      ]
     },
     "execution_count": 430,
     "metadata": {},
     "output_type": "execute_result"
    },
    {
     "data": {
      "image/png": "[encoded data removed]",
      "text/plain": [
       "<matplotlib.figure.Figure at 0x19bfe4aecc0>"
      ]
     },
     "metadata": {},
     "output_type": "display_data"
    }
   ],
   "source": [
    "ngrid = 100\n",
    "x = np.linspace(-5, 5, ngrid)\n",
    "y = np.linspace(-5, 5, ngrid)\n",
    "X, Y = np.meshgrid(x,y)\n",
    "Z = np.exp( - model.getMinusLogPosterior( np.vstack( (np.ndarray.flatten(X), np.ndarray.flatten(Y)) ) ) ) \\\n",
    "                .reshape(ngrid, ngrid)\n",
    "plt.figure(figsize = (10,10))\n",
    "plt.contourf(X, Y, Z, 10)\n",
    "plt.scatter(ssvgd.particles[0], ssvgd.particles[1], s = 10)"
   ]
  },
  {
   "cell_type": "code",
   "execution_count": null,
   "metadata": {
    "collapsed": true
   },
   "outputs": [],
   "source": []
  },
  {
   "cell_type": "code",
   "execution_count": null,
   "metadata": {
    "collapsed": true
   },
   "outputs": [],
   "source": []
  }
 ],
 "metadata": {
  "kernelspec": {
   "display_name": "Python 3",
   "language": "python",
   "name": "python3"
  },
  "language_info": {
   "codemirror_mode": {
    "name": "ipython",
    "version": 3
   },
   "file_extension": ".py",
   "mimetype": "text/x-python",
   "name": "python",
   "nbconvert_exporter": "python",
   "pygments_lexer": "ipython3",
   "version": "3.6.2"
  }
 },
 "nbformat": 4,
 "nbformat_minor": 2
}
