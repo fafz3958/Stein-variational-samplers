{
 "cells": [
  {
   "cell_type": "code",
   "execution_count": 1,
   "metadata": {
    "collapsed": true
   },
   "outputs": [],
   "source": [
    "import numpy as np\n",
    "import matplotlib.pyplot as plt\n",
    "from scipy import stats, optimize\n",
    "%matplotlib inline"
   ]
  },
  {
   "cell_type": "code",
   "execution_count": 124,
   "metadata": {
    "collapsed": true
   },
   "outputs": [],
   "source": [
    "class SVN:\n",
    "    def __init__(self, model, *arg):\n",
    "        self.model = model\n",
    "        self.DoF = model.DoF\n",
    "        self.nParticles = 100\n",
    "        self.nIterations = 100\n",
    "        self.stepsize = 1\n",
    "        self.MAP = self.model.getMAP( np.random.normal( size = self.DoF ) )[:,np.newaxis]\n",
    "        if len(arg) == 0:\n",
    "            self.resetParticles()\n",
    "        else:\n",
    "            self.particles = arg[0]\n",
    "        \n",
    "    def apply(self):\n",
    "        maxmaxshiftold = np.inf\n",
    "        maxshift = np.zeros(self.nParticles)\n",
    "        Q = np.zeros( (self.DoF, self.nParticles) )\n",
    "        for iter_ in range(self.nIterations):\n",
    "            F = self.model.getForwardModel(self.particles)\n",
    "            J = self.model.getJacobianForwardModel(self.particles)\n",
    "            gmlpt  = self.model.getGradientMinusLogPosterior(self.particles, F, J)\n",
    "            Hmlpt  = self.model.getGNHessianMinusLogPosterior(self.particles, J)\n",
    "            M = np.mean(Hmlpt, 2)\n",
    "            \n",
    "            for i_ in range(self.nParticles):\n",
    "                sign_diff = self.particles[:,i_,np.newaxis] - self.particles\n",
    "                Msd   = np.matmul(M, sign_diff)\n",
    "                kern  = np.exp( - 0.5 * np.sum( sign_diff * Msd, 0 ) )\n",
    "                gkern = Msd * kern\n",
    "                \n",
    "                mgJ = np.mean(- gmlpt * kern + gkern , 1)\n",
    "                HJ  = np.mean(Hmlpt * kern ** 2, 2) + np.matmul(gkern, gkern.T) / self.nParticles\n",
    "                Q[:,i_] = np.linalg.solve(HJ, mgJ)\n",
    "                maxshift[i_] = np.linalg.norm(Q[:,i_], np.inf)\n",
    "            self.particles += self.stepsize * Q\n",
    "            maxmaxshift = np.max(maxshift)\n",
    "            \n",
    "            if np.isnan(maxmaxshift) or (maxmaxshift > 1e20):\n",
    "                print('Reset particles...')\n",
    "                self.resetParticles()\n",
    "                self.stepsize = 1\n",
    "            elif maxmaxshift < maxmaxshiftold:\n",
    "                self.stepsize *= 1.01\n",
    "            else:\n",
    "                self.stepsize *= 0.9\n",
    "            maxmaxshiftold = maxmaxshift\n",
    "                          \n",
    "    def resetParticles(self):\n",
    "        self.particles = np.random.normal( scale = 1, size = (self.DoF, self.nParticles) )\n",
    "\n",
    "            "
   ]
  },
  {
   "cell_type": "code",
   "execution_count": 165,
   "metadata": {
    "collapsed": true
   },
   "outputs": [],
   "source": [
    "class GAUSSIAN():\n",
    "    def __init__(self):\n",
    "        self.DoF = 2\n",
    "        self.nData = 1\n",
    "        self.mu0 = np.zeros((self.DoF, 1))\n",
    "        self.std0 = np.ones((self.DoF,1))\n",
    "        self.var0 = self.std0 ** 2\n",
    "        self.stdn = 0.3\n",
    "        self.varn = self.stdn ** 2\n",
    "        \n",
    "        np.random.seed(40)\n",
    "        self.A    = np.random.normal( size = (self.DoF, 1) )\n",
    "        self.thetaTrue = np.random.normal(size = self.DoF)\n",
    "        self.data = self.simulateData()\n",
    "        \n",
    "    def getForwardModel(self, thetas):\n",
    "        nSamples = thetas.size // self.DoF\n",
    "        thetas = thetas.reshape(self.DoF, nSamples)\n",
    "        tmp = np.sum(self.A * thetas, 0)\n",
    "        return tmp if nSamples > 1 else tmp.squeeze()\n",
    "    \n",
    "    def getJacobianForwardModel(self, thetas):\n",
    "        nSamples = thetas.size // self.DoF\n",
    "        thetas = thetas.reshape(self.DoF, nSamples)\n",
    "        tmp = np.matlib.repmat(self.A, 1, nSamples)\n",
    "        return tmp if nSamples > 1 else tmp.squeeze()\n",
    "        \n",
    "    def simulateData(self):\n",
    "        noise = np.random.normal( scale = self.stdn, size = (1, self.nData) )\n",
    "        return self.getForwardModel(self.thetaTrue) + np.random.normal( scale = self.stdn, size = (1, self.nData) )\n",
    "        \n",
    "    def getMinusLogPrior(self, thetas):\n",
    "        nSamples = thetas.size // self.DoF\n",
    "        thetas = thetas.reshape(self.DoF, nSamples)\n",
    "        shift = thetas - self.mu0\n",
    "        tmp = 0.5 * np.sum( shift ** 2 / self.var0, 0 )\n",
    "        return tmp if nSamples > 1 else tmp.squeeze()\n",
    "    \n",
    "    def getMinusLogLikelihood(self, thetas, *arg):\n",
    "        nSamples = thetas.size // self.DoF\n",
    "        thetas = thetas.reshape(self.DoF, nSamples)\n",
    "        F = arg[0] if len(arg) > 0 else self.getForwardModel(thetas)\n",
    "        shift = F - self.data\n",
    "        tmp = 0.5 * np.sum( shift ** 2, 0 ) / self.varn\n",
    "        return tmp if nSamples > 1 else tmp.squeeze()\n",
    "    \n",
    "    def getMinusLogPosterior(self, thetas, *arg):\n",
    "        return self.getMinusLogPrior(thetas) + self.getMinusLogLikelihood(thetas, *arg)\n",
    "    \n",
    "    def getGradientMinusLogPrior(self, thetas):\n",
    "        nSamples = thetas.size // self.DoF\n",
    "        thetas = thetas.reshape(self.DoF, nSamples)\n",
    "        tmp = (thetas - self.mu0) / self.var0\n",
    "        return tmp if nSamples > 1 else tmp.squeeze()\n",
    "    \n",
    "    def getGradientMinusLogLikelihood(self, thetas, *arg):\n",
    "        nSamples = thetas.size // self.DoF\n",
    "        thetas = thetas.reshape(self.DoF, nSamples)\n",
    "        F = arg[0] if len(arg) > 0 else self.getForwardModel(thetas)   \n",
    "        J = arg[1] if len(arg) > 1 else self.getJacobianForwardModel(thetas)\n",
    "        tmp = J * np.sum(F - self.data, 0) / self.varn\n",
    "        return tmp if nSamples > 1 else tmp.squeeze()\n",
    "    \n",
    "    def getGradientMinusLogPosterior(self, thetas, *arg):\n",
    "        return self.getGradientMinusLogPrior(thetas) + self.getGradientMinusLogLikelihood(thetas, *arg)\n",
    "    \n",
    "    def getGNHessianMinusLogPosterior(self, thetas, *arg):        \n",
    "        nSamples = thetas.size // self.DoF\n",
    "        thetas = thetas.reshape(self.DoF, nSamples)\n",
    "        J = arg[0] if len(arg) > 1 else self.getJacobianForwardModel(thetas)\n",
    "        tmp = J.reshape(self.DoF, 1, nSamples) * J.reshape(1, self.DoF, nSamples) / self.varn \\\n",
    "              + (np.eye(self.DoF) / self.var0)[:,:,np.newaxis]\n",
    "        return tmp if nSamples > 1 else tmp.squeeze()\n",
    "    \n",
    "    def getMAP(self, *arg):\n",
    "        x0 = arg[0] if len(arg) > 0 else np.random.normal(size = self.DoF)\n",
    "        res = optimize.minimize(self.getMinusLogPosterior, x0, method='L-BFGS-B')\n",
    "        return res.x"
   ]
  },
  {
   "cell_type": "code",
   "execution_count": 166,
   "metadata": {
    "collapsed": true
   },
   "outputs": [],
   "source": [
    "model = GAUSSIAN()"
   ]
  },
  {
   "cell_type": "code",
   "execution_count": 167,
   "metadata": {
    "collapsed": true
   },
   "outputs": [],
   "source": [
    "svn = SVN(model)"
   ]
  },
  {
   "cell_type": "code",
   "execution_count": 168,
   "metadata": {
    "collapsed": true
   },
   "outputs": [],
   "source": [
    "svn.apply()"
   ]
  },
  {
   "cell_type": "code",
   "execution_count": 170,
   "metadata": {},
   "outputs": [
    {
     "data": {
      "text/plain": [
       "<matplotlib.collections.PathCollection at 0x2363e134828>"
      ]
     },
     "execution_count": 170,
     "metadata": {},
     "output_type": "execute_result"
    },
    {
     "data": {
      "image/png": "[encoded data removed]",
      "text/plain": [
       "<matplotlib.figure.Figure at 0x2363ca106d8>"
      ]
     },
     "metadata": {},
     "output_type": "display_data"
    }
   ],
   "source": [
    "ngrid = 100\n",
    "x = np.linspace(-2, 2, ngrid)\n",
    "y = np.linspace(-3, 3, ngrid)\n",
    "X, Y = np.meshgrid(x,y)\n",
    "Z = np.exp( - model.getMinusLogPosterior( np.vstack( (np.ndarray.flatten(X), np.ndarray.flatten(Y)) ) ) )\\\n",
    "    .reshape(ngrid, ngrid)\n",
    "\n",
    "plt.figure(figsize = (10,10))\n",
    "plt.contourf(X, Y, Z, 10)\n",
    "plt.scatter(svn.particles[0], svn.particles[1])"
   ]
  },
  {
   "cell_type": "code",
   "execution_count": 118,
   "metadata": {
    "collapsed": true
   },
   "outputs": [],
   "source": [
    "class DOUBLEBANANA():\n",
    "    def __init__(self):\n",
    "        self.DoF = 2\n",
    "        self.nData = 1\n",
    "        self.mu0 = np.zeros((self.DoF, 1))\n",
    "        self.std0 = np.ones((self.DoF,1))\n",
    "        self.var0 = self.std0 ** 2\n",
    "        self.stdn = 0.3\n",
    "        self.varn = self.stdn ** 2\n",
    "        \n",
    "        np.random.seed(40)\n",
    "        self.thetaTrue = np.random.normal(size = self.DoF)\n",
    "        self.data = self.simulateData()\n",
    "        \n",
    "    def getForwardModel(self, thetas):\n",
    "        nSamples = thetas.size // self.DoF\n",
    "        thetas = thetas.reshape(self.DoF, nSamples)\n",
    "        tmp = np.log( ( 1 - thetas[0] ) ** 2 + 100 * ( thetas[1] - thetas[0] ** 2 ) ** 2 )\n",
    "        return tmp if nSamples > 1 else tmp.squeeze()\n",
    "    \n",
    "    def getJacobianForwardModel(self, thetas):\n",
    "        nSamples = thetas.size // self.DoF\n",
    "        thetas = thetas.reshape(self.DoF, nSamples)\n",
    "        tmp = np.vstack( ( \\\n",
    "          ( 2 * ( thetas[0,:] - 1 - 200 * thetas[0,:] * (thetas[1,:] - thetas[0,:] ** 2) ) ) \\\n",
    "           / ( 1 + thetas[0,:] ** 2 - 2 * thetas[0,:] + 100 * (thetas[1,:] - thetas[0,:] ** 2) ** 2 ), \\\n",
    "          ( 200 * (thetas[1,:] - thetas[0,:] ** 2) ) \\\n",
    "           / ( 1 + thetas[0,:] ** 2 - 2 * thetas[0,:] + 100 * (thetas[1,:] - thetas[0,:] ** 2) ** 2 ) \\\n",
    "                         ) )\n",
    "        return tmp if nSamples > 1 else tmp.squeeze()\n",
    "        \n",
    "    def simulateData(self):\n",
    "        noise = np.random.normal( scale = self.stdn, size = (1, self.nData) )\n",
    "        return self.getForwardModel(self.thetaTrue) + np.random.normal( scale = self.stdn, size = (1, self.nData) )\n",
    "        \n",
    "    def getMinusLogPrior(self, thetas):\n",
    "        nSamples = thetas.size // self.DoF\n",
    "        thetas = thetas.reshape(self.DoF, nSamples)\n",
    "        shift = thetas - self.mu0\n",
    "        tmp = 0.5 * np.sum( shift ** 2 / self.var0, 0 )\n",
    "        return tmp if nSamples > 1 else tmp.squeeze()\n",
    "    \n",
    "    def getMinusLogLikelihood(self, thetas, *arg):\n",
    "        nSamples = thetas.size // self.DoF\n",
    "        thetas = thetas.reshape(self.DoF, nSamples)\n",
    "        F = arg[0] if len(arg) > 0 else self.getForwardModel(thetas)\n",
    "        shift = F - self.data\n",
    "        tmp = 0.5 * np.sum( shift ** 2, 0 ) / self.varn\n",
    "        return tmp if nSamples > 1 else tmp.squeeze()\n",
    "    \n",
    "    def getMinusLogPosterior(self, thetas, *arg):\n",
    "        return self.getMinusLogPrior(thetas) + self.getMinusLogLikelihood(thetas, *arg)\n",
    "    \n",
    "    def getGradientMinusLogPrior(self, thetas):\n",
    "        nSamples = thetas.size // self.DoF\n",
    "        thetas = thetas.reshape(self.DoF, nSamples)\n",
    "        tmp = (thetas - self.mu0) / self.var0\n",
    "        return tmp if nSamples > 1 else tmp.squeeze()\n",
    "    \n",
    "    def getGradientMinusLogLikelihood(self, thetas, *arg):\n",
    "        nSamples = thetas.size // self.DoF\n",
    "        thetas = thetas.reshape(self.DoF, nSamples)\n",
    "        F = arg[0] if len(arg) > 0 else self.getForwardModel(thetas)   \n",
    "        J = arg[1] if len(arg) > 1 else self.getJacobianForwardModel(thetas)\n",
    "        tmp = J * np.sum(F - self.data, 0) / self.varn\n",
    "        return tmp if nSamples > 1 else tmp.squeeze()\n",
    "    \n",
    "    def getGradientMinusLogPosterior(self, thetas, *arg):\n",
    "        return self.getGradientMinusLogPrior(thetas) + self.getGradientMinusLogLikelihood(thetas, *arg)\n",
    "    \n",
    "    def getGNHessianMinusLogPosterior(self, thetas, *arg):        \n",
    "        nSamples = thetas.size // self.DoF\n",
    "        thetas = thetas.reshape(self.DoF, nSamples)\n",
    "        J = arg[0] if len(arg) > 1 else self.getJacobianForwardModel(thetas)\n",
    "        tmp = J.reshape(self.DoF, 1, nSamples) * J.reshape(1, self.DoF, nSamples) / self.varn \\\n",
    "              + (np.eye(self.DoF) / self.var0)[:,:,np.newaxis]\n",
    "        return tmp if nSamples > 1 else tmp.squeeze()\n",
    "    \n",
    "    def getMAP(self, *arg):\n",
    "        x0 = arg[0] if len(arg) > 0 else np.random.normal(size = self.DoF)\n",
    "        res = optimize.minimize(self.getMinusLogPosterior, x0, method='L-BFGS-B')\n",
    "        return res.x"
   ]
  },
  {
   "cell_type": "code",
   "execution_count": 125,
   "metadata": {
    "collapsed": true
   },
   "outputs": [],
   "source": [
    "model = DOUBLEBANANA()"
   ]
  },
  {
   "cell_type": "code",
   "execution_count": 126,
   "metadata": {
    "collapsed": true
   },
   "outputs": [],
   "source": [
    "svn = SVN(model)"
   ]
  },
  {
   "cell_type": "code",
   "execution_count": 127,
   "metadata": {
    "collapsed": true
   },
   "outputs": [],
   "source": [
    "svn.apply()"
   ]
  },
  {
   "cell_type": "code",
   "execution_count": 128,
   "metadata": {},
   "outputs": [
    {
     "data": {
      "text/plain": [
       "<matplotlib.collections.PathCollection at 0x2363d06b6a0>"
      ]
     },
     "execution_count": 128,
     "metadata": {},
     "output_type": "execute_result"
    },
    {
     "data": {
      "image/png": "[encoded data removed]",
      "text/plain": [
       "<matplotlib.figure.Figure at 0x2363d07d470>"
      ]
     },
     "metadata": {},
     "output_type": "display_data"
    }
   ],
   "source": [
    "ngrid = 100\n",
    "x = np.linspace(-2, 2, ngrid)\n",
    "y = np.linspace(-2, 3, ngrid)\n",
    "X, Y = np.meshgrid(x,y)\n",
    "Z = np.exp( - model.getMinusLogPosterior( np.vstack( (np.ndarray.flatten(X), np.ndarray.flatten(Y)) ) ) )\\\n",
    "    .reshape(ngrid, ngrid)\n",
    "\n",
    "plt.figure(figsize = (10,10))\n",
    "plt.contourf(X, Y, Z, 10)\n",
    "plt.scatter(svn.particles[0], svn.particles[1])"
   ]
  },
  {
   "cell_type": "code",
   "execution_count": 150,
   "metadata": {
    "collapsed": true
   },
   "outputs": [],
   "source": [
    "class NONLINREGRESSION():\n",
    "    def __init__(self):\n",
    "        self.DoF = 2\n",
    "        self.nData = 1\n",
    "        self.mu0 = np.zeros((self.DoF, 1))\n",
    "        self.std0 = np.ones((self.DoF,1))\n",
    "        self.var0 = self.std0 ** 2\n",
    "        self.stdn = 0.3\n",
    "        self.varn = self.stdn ** 2\n",
    "        \n",
    "        np.random.seed(40)\n",
    "        self.thetaTrue = np.random.normal(size = self.DoF)\n",
    "        self.data = self.simulateData()\n",
    "        \n",
    "    def getForwardModel(self, thetas):\n",
    "        nSamples = thetas.size // self.DoF\n",
    "        thetas = thetas.reshape(self.DoF, nSamples)\n",
    "        tmp = thetas[0] ** 3 + thetas[1]\n",
    "        return tmp if nSamples > 1 else tmp.squeeze()\n",
    "    \n",
    "    def getJacobianForwardModel(self, thetas):\n",
    "        nSamples = thetas.size // self.DoF\n",
    "        thetas = thetas.reshape(self.DoF, nSamples)\n",
    "        tmp = np.vstack( ( 3 * thetas[0] ** 2, np.ones(nSamples) ) )\n",
    "        return tmp if nSamples > 1 else tmp.squeeze()\n",
    "        \n",
    "    def simulateData(self):\n",
    "        noise = np.random.normal( scale = self.stdn, size = (1, self.nData) )\n",
    "        return self.getForwardModel(self.thetaTrue) + np.random.normal( scale = self.stdn, size = (1, self.nData) )\n",
    "        \n",
    "    def getMinusLogPrior(self, thetas):\n",
    "        nSamples = thetas.size // self.DoF\n",
    "        thetas = thetas.reshape(self.DoF, nSamples)\n",
    "        shift = thetas - self.mu0\n",
    "        tmp = 0.5 * np.sum( shift ** 2 / self.var0, 0 )\n",
    "        return tmp if nSamples > 1 else tmp.squeeze()\n",
    "    \n",
    "    def getMinusLogLikelihood(self, thetas, *arg):\n",
    "        nSamples = thetas.size // self.DoF\n",
    "        thetas = thetas.reshape(self.DoF, nSamples)\n",
    "        F = arg[0] if len(arg) > 0 else self.getForwardModel(thetas)\n",
    "        shift = F - self.data\n",
    "        tmp = 0.5 * np.sum( shift ** 2, 0 ) / self.varn\n",
    "        return tmp if nSamples > 1 else tmp.squeeze()\n",
    "    \n",
    "    def getMinusLogPosterior(self, thetas, *arg):\n",
    "        return self.getMinusLogPrior(thetas) + self.getMinusLogLikelihood(thetas, *arg)\n",
    "    \n",
    "    def getGradientMinusLogPrior(self, thetas):\n",
    "        nSamples = thetas.size // self.DoF\n",
    "        thetas = thetas.reshape(self.DoF, nSamples)\n",
    "        tmp = (thetas - self.mu0) / self.var0\n",
    "        return tmp if nSamples > 1 else tmp.squeeze()\n",
    "    \n",
    "    def getGradientMinusLogLikelihood(self, thetas, *arg):\n",
    "        nSamples = thetas.size // self.DoF\n",
    "        thetas = thetas.reshape(self.DoF, nSamples)\n",
    "        F = arg[0] if len(arg) > 0 else self.getForwardModel(thetas)   \n",
    "        J = arg[1] if len(arg) > 1 else self.getJacobianForwardModel(thetas)\n",
    "        tmp = J * np.sum(F - self.data, 0) / self.varn\n",
    "        return tmp if nSamples > 1 else tmp.squeeze()\n",
    "    \n",
    "    def getGradientMinusLogPosterior(self, thetas, *arg):\n",
    "        return self.getGradientMinusLogPrior(thetas) + self.getGradientMinusLogLikelihood(thetas, *arg)\n",
    "    \n",
    "    def getGNHessianMinusLogPosterior(self, thetas, *arg):        \n",
    "        nSamples = thetas.size // self.DoF\n",
    "        thetas = thetas.reshape(self.DoF, nSamples)\n",
    "        J = arg[0] if len(arg) > 1 else self.getJacobianForwardModel(thetas)\n",
    "        tmp = J.reshape(self.DoF, 1, nSamples) * J.reshape(1, self.DoF, nSamples) / self.varn \\\n",
    "              + (np.eye(self.DoF) / self.var0)[:,:,np.newaxis]\n",
    "        return tmp if nSamples > 1 else tmp.squeeze()\n",
    "    \n",
    "    def getMAP(self, *arg):\n",
    "        x0 = arg[0] if len(arg) > 0 else np.random.normal(size = self.DoF)\n",
    "        res = optimize.minimize(self.getMinusLogPosterior, x0, method='L-BFGS-B')\n",
    "        return res.x"
   ]
  },
  {
   "cell_type": "code",
   "execution_count": 151,
   "metadata": {
    "collapsed": true
   },
   "outputs": [],
   "source": [
    "model = NONLINREGRESSION()"
   ]
  },
  {
   "cell_type": "code",
   "execution_count": 152,
   "metadata": {
    "collapsed": true
   },
   "outputs": [],
   "source": [
    "svn = SVN(model)"
   ]
  },
  {
   "cell_type": "code",
   "execution_count": 153,
   "metadata": {
    "collapsed": true
   },
   "outputs": [],
   "source": [
    "svn.apply()"
   ]
  },
  {
   "cell_type": "code",
   "execution_count": 154,
   "metadata": {},
   "outputs": [
    {
     "data": {
      "text/plain": [
       "<matplotlib.collections.PathCollection at 0x2363df58198>"
      ]
     },
     "execution_count": 154,
     "metadata": {},
     "output_type": "execute_result"
    },
    {
     "data": {
      "image/png": "[encoded data removed]",
      "text/plain": [
       "<matplotlib.figure.Figure at 0x2363dd42cf8>"
      ]
     },
     "metadata": {},
     "output_type": "display_data"
    }
   ],
   "source": [
    "ngrid = 100\n",
    "x = np.linspace(-2, 2, ngrid)\n",
    "y = np.linspace(-2, 3, ngrid)\n",
    "X, Y = np.meshgrid(x,y)\n",
    "Z = np.exp( - model.getMinusLogPosterior( np.vstack( (np.ndarray.flatten(X), np.ndarray.flatten(Y)) ) ) )\\\n",
    "    .reshape(ngrid, ngrid)\n",
    "\n",
    "plt.figure(figsize = (10,10))\n",
    "plt.contourf(X, Y, Z, 10)\n",
    "plt.scatter(svn.particles[0], svn.particles[1])"
   ]
  }
 ],
 "metadata": {
  "kernelspec": {
   "display_name": "Python 3",
   "language": "python",
   "name": "python3"
  },
  "language_info": {
   "codemirror_mode": {
    "name": "ipython",
    "version": 3
   },
   "file_extension": ".py",
   "mimetype": "text/x-python",
   "name": "python",
   "nbconvert_exporter": "python",
   "pygments_lexer": "ipython3",
   "version": "3.6.2"
  }
 },
 "nbformat": 4,
 "nbformat_minor": 2
}
